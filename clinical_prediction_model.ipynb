{
 "cells": [
  {
   "attachments": {},
   "cell_type": "markdown",
   "metadata": {},
   "source": [
    "## \"AI for Health\" Computer Science 4th year\n",
    "\n",
    "\n",
    "This project aims to predict the clinical speciality by analaysing and classifying the patient's transcription data. It takes patients' symptoms, histories, current problems as input and predicts the specialty for the given input as output.\n",
    "The project is based on natural language processing that cleans, analyses the textual data and uses Tfidfvectorizer and Random Forest Classifier to classify, train and predict the outcome. We have sucessfully trained the model and now it is capable of predicting the related medical department given the patients' details. "
   ]
  },
  {
   "attachments": {},
   "cell_type": "markdown",
   "metadata": {},
   "source": [
    "dataset drivelink: https://drive.google.com/drive/folders/1vOjR_Qs55BJI_DSaX56crr155hHiq6Go?usp=sharing"
   ]
  },
  {
   "cell_type": "code",
   "execution_count": 7,
   "metadata": {},
   "outputs": [
    {
     "name": "stderr",
     "output_type": "stream",
     "text": [
      "[nltk_data] Downloading package stopwords to\n",
      "[nltk_data]     C:\\Users\\lenovo\\AppData\\Roaming\\nltk_data...\n",
      "[nltk_data]   Package stopwords is already up-to-date!\n",
      "[nltk_data] Downloading package omw-1.4 to\n",
      "[nltk_data]     C:\\Users\\lenovo\\AppData\\Roaming\\nltk_data...\n",
      "[nltk_data]   Package omw-1.4 is already up-to-date!\n"
     ]
    }
   ],
   "source": [
    "\n",
    "import pandas as pd\n",
    "import numpy as np\n",
    "import seaborn as sns\n",
    "import matplotlib.pyplot as plt\n",
    "\n",
    "import re\n",
    "import string\n",
    "from numpy import dot\n",
    "from numpy.linalg import norm\n",
    "\n",
    "import sklearn\n",
    "from sklearn.feature_extraction.text import TfidfVectorizer\n",
    "from sklearn.linear_model import LogisticRegression\n",
    "\n",
    "\n",
    "import nltk\n",
    "from nltk.tokenize import word_tokenize\n",
    "from nltk.tokenize import sent_tokenize\n",
    "from nltk.stem import WordNetLemmatizer\n",
    "from imblearn.over_sampling import SMOTE\n",
    "nltk.download('stopwords')\n",
    "from nltk.corpus import stopwords\n",
    "nltk.download('omw-1.4')\n",
    "\n",
    "import spacy\n",
    "import en_ner_bionlp13cg_md"
   ]
  },
  {
   "cell_type": "code",
   "execution_count": 8,
   "metadata": {},
   "outputs": [
    {
     "data": {
      "text/html": [
       "<div>\n",
       "<style scoped>\n",
       "    .dataframe tbody tr th:only-of-type {\n",
       "        vertical-align: middle;\n",
       "    }\n",
       "\n",
       "    .dataframe tbody tr th {\n",
       "        vertical-align: top;\n",
       "    }\n",
       "\n",
       "    .dataframe thead th {\n",
       "        text-align: right;\n",
       "    }\n",
       "</style>\n",
       "<table border=\"1\" class=\"dataframe\">\n",
       "  <thead>\n",
       "    <tr style=\"text-align: right;\">\n",
       "      <th></th>\n",
       "      <th>Unnamed: 0</th>\n",
       "      <th>description</th>\n",
       "      <th>medical_specialty</th>\n",
       "      <th>sample_name</th>\n",
       "      <th>transcription</th>\n",
       "      <th>keywords</th>\n",
       "    </tr>\n",
       "  </thead>\n",
       "  <tbody>\n",
       "    <tr>\n",
       "      <th>0</th>\n",
       "      <td>0</td>\n",
       "      <td>A 23-year-old white female presents with comp...</td>\n",
       "      <td>Allergy / Immunology</td>\n",
       "      <td>Allergic Rhinitis</td>\n",
       "      <td>SUBJECTIVE:,  This 23-year-old white female pr...</td>\n",
       "      <td>allergy / immunology, allergic rhinitis, aller...</td>\n",
       "    </tr>\n",
       "  </tbody>\n",
       "</table>\n",
       "</div>"
      ],
      "text/plain": [
       "   Unnamed: 0                                        description  \\\n",
       "0           0   A 23-year-old white female presents with comp...   \n",
       "\n",
       "       medical_specialty          sample_name  \\\n",
       "0   Allergy / Immunology   Allergic Rhinitis    \n",
       "\n",
       "                                       transcription  \\\n",
       "0  SUBJECTIVE:,  This 23-year-old white female pr...   \n",
       "\n",
       "                                            keywords  \n",
       "0  allergy / immunology, allergic rhinitis, aller...  "
      ]
     },
     "execution_count": 8,
     "metadata": {},
     "output_type": "execute_result"
    }
   ],
   "source": [
    "#loading dataset\n",
    "clinicaldf = pd.read_csv('transcription_dataset.csv')\n",
    "clinicaldf.head(1)"
   ]
  },
  {
   "cell_type": "code",
   "execution_count": 9,
   "metadata": {},
   "outputs": [
    {
     "data": {
      "text/plain": [
       "(4999, 6)"
      ]
     },
     "execution_count": 9,
     "metadata": {},
     "output_type": "execute_result"
    }
   ],
   "source": [
    "clinicaldf.shape #(rows,columns)"
   ]
  },
  {
   "attachments": {},
   "cell_type": "markdown",
   "metadata": {},
   "source": [
    "Data Cleaning"
   ]
  },
  {
   "cell_type": "code",
   "execution_count": 10,
   "metadata": {},
   "outputs": [
    {
     "data": {
      "text/plain": [
       "Unnamed: 0              0\n",
       "description             0\n",
       "medical_specialty       0\n",
       "sample_name             0\n",
       "transcription          33\n",
       "keywords             1068\n",
       "dtype: int64"
      ]
     },
     "execution_count": 10,
     "metadata": {},
     "output_type": "execute_result"
    }
   ],
   "source": [
    "clinicaldf.isnull().sum() #checking null values"
   ]
  },
  {
   "cell_type": "code",
   "execution_count": 11,
   "metadata": {},
   "outputs": [
    {
     "data": {
      "text/plain": [
       "Unnamed: 0           0\n",
       "description          0\n",
       "medical_specialty    0\n",
       "sample_name          0\n",
       "transcription        0\n",
       "keywords             0\n",
       "dtype: int64"
      ]
     },
     "execution_count": 11,
     "metadata": {},
     "output_type": "execute_result"
    }
   ],
   "source": [
    "#avoiding null values\n",
    "clinicaldf = clinicaldf[clinicaldf['transcription'].notna()]\n",
    "clinicaldf = clinicaldf[clinicaldf['keywords'].notna()]\n",
    "clinicaldf.isnull().sum()"
   ]
  },
  {
   "cell_type": "code",
   "execution_count": 12,
   "metadata": {},
   "outputs": [
    {
     "data": {
      "text/plain": [
       "0"
      ]
     },
     "execution_count": 12,
     "metadata": {},
     "output_type": "execute_result"
    }
   ],
   "source": [
    "#checking duplicates\n",
    "clinicaldf.duplicated().sum()"
   ]
  },
  {
   "cell_type": "code",
   "execution_count": 13,
   "metadata": {},
   "outputs": [],
   "source": [
    "#only taking necessary columns/data for prediction\n",
    "clinicaldf = clinicaldf[['transcription','medical_specialty']]"
   ]
  },
  {
   "cell_type": "code",
   "execution_count": 14,
   "metadata": {},
   "outputs": [
    {
     "data": {
      "text/plain": [
       " Surgery                          1021\n",
       " Orthopedic                        303\n",
       " Cardiovascular / Pulmonary        280\n",
       " Radiology                         251\n",
       " Consult - History and Phy.        234\n",
       " Gastroenterology                  195\n",
       " Neurology                         168\n",
       " General Medicine                  146\n",
       " SOAP / Chart / Progress Notes     142\n",
       " Urology                           140\n",
       " Obstetrics / Gynecology           130\n",
       " ENT - Otolaryngology               84\n",
       " Neurosurgery                       81\n",
       " Ophthalmology                      79\n",
       " Discharge Summary                  77\n",
       " Nephrology                         63\n",
       " Hematology - Oncology              62\n",
       " Pain Management                    58\n",
       " Office Notes                       44\n",
       " Pediatrics - Neonatal              42\n",
       " Podiatry                           42\n",
       " Emergency Room Reports             31\n",
       " Dermatology                        25\n",
       " Dentistry                          25\n",
       " Cosmetic / Plastic Surgery         25\n",
       " Letters                            20\n",
       " Psychiatry / Psychology            19\n",
       " Sleep Medicine                     18\n",
       " Bariatrics                         18\n",
       " Endocrinology                      15\n",
       " Physical Medicine - Rehab          11\n",
       " Diets and Nutritions               10\n",
       " Speech - Language                   8\n",
       " Lab Medicine - Pathology            8\n",
       " Rheumatology                        7\n",
       " Hospice - Palliative Care           5\n",
       " Chiropractic                        4\n",
       " IME-QME-Work Comp etc.              4\n",
       " Allergy / Immunology                3\n",
       "Name: medical_specialty, dtype: int64"
      ]
     },
     "execution_count": 14,
     "metadata": {},
     "output_type": "execute_result"
    }
   ],
   "source": [
    "clinicaldf.medical_specialty.value_counts()"
   ]
  },
  {
   "cell_type": "code",
   "execution_count": 15,
   "metadata": {},
   "outputs": [],
   "source": [
    "#only taking medical_specialty with value >50 better model and prediction\n",
    "counts = clinicaldf['medical_specialty'].value_counts()\n",
    "clinicaldf = clinicaldf[~clinicaldf['medical_specialty'].isin(counts[counts < 80].index)]"
   ]
  },
  {
   "cell_type": "code",
   "execution_count": 16,
   "metadata": {},
   "outputs": [
    {
     "data": {
      "text/plain": [
       " Surgery                          1021\n",
       " Orthopedic                        303\n",
       " Cardiovascular / Pulmonary        280\n",
       " Radiology                         251\n",
       " Consult - History and Phy.        234\n",
       " Gastroenterology                  195\n",
       " Neurology                         168\n",
       " General Medicine                  146\n",
       " SOAP / Chart / Progress Notes     142\n",
       " Urology                           140\n",
       " Obstetrics / Gynecology           130\n",
       " ENT - Otolaryngology               84\n",
       " Neurosurgery                       81\n",
       "Name: medical_specialty, dtype: int64"
      ]
     },
     "execution_count": 16,
     "metadata": {},
     "output_type": "execute_result"
    }
   ],
   "source": [
    "clinicaldf.medical_specialty.value_counts() #now have values with counts>50"
   ]
  },
  {
   "cell_type": "code",
   "execution_count": 17,
   "metadata": {},
   "outputs": [
    {
     "data": {
      "text/plain": [
       "Index(['transcription', 'medical_specialty'], dtype='object')"
      ]
     },
     "execution_count": 17,
     "metadata": {},
     "output_type": "execute_result"
    }
   ],
   "source": [
    "clinicaldf.columns\n"
   ]
  },
  {
   "cell_type": "code",
   "execution_count": 18,
   "metadata": {},
   "outputs": [
    {
     "data": {
      "text/plain": [
       "(3175, 2)"
      ]
     },
     "execution_count": 18,
     "metadata": {},
     "output_type": "execute_result"
    }
   ],
   "source": [
    "clinicaldf.shape"
   ]
  },
  {
   "cell_type": "code",
   "execution_count": 19,
   "metadata": {},
   "outputs": [],
   "source": [
    "#cleaning data by removing unwanted characters\n",
    "special_character_remover = re.compile('[/(){}\\[\\]\\|@,;]')\n",
    "extra_symbol_remover = re.compile('[^0-9a-z #+_]')\n",
    "STOPWORDS = set(stopwords.words('english'))\n",
    "nlp = spacy.load(\"en_ner_bionlp13cg_md\")\n",
    "\n",
    "def clean_text(text):\n",
    "    text = text.lower()\n",
    "    text = special_character_remover.sub(' ',text)\n",
    "    text = extra_symbol_remover.sub('',text)\n",
    "    text = ' '.join(word for word in text.split() if word not in STOPWORDS)\n",
    "    return text\n",
    "\n",
    "def lemmatize_text(text):\n",
    "    wordlist=[]\n",
    "    lemmatizer = WordNetLemmatizer() \n",
    "    sentences=sent_tokenize(text)\n",
    "    \n",
    "    for sentence in sentences:\n",
    "        words=word_tokenize(sentence)\n",
    "        for word in words:\n",
    "            wordlist.append(lemmatizer.lemmatize(word))    \n",
    "    return ' '.join(wordlist) \n",
    "\n",
    "def process_Text(text):\n",
    "    wordlist=[]\n",
    "    doc = nlp(text)\n",
    "    for ent in doc.ents:\n",
    "        wordlist.append(ent.text)\n",
    "    return ' '.join(wordlist) "
   ]
  },
  {
   "cell_type": "code",
   "execution_count": 20,
   "metadata": {},
   "outputs": [
    {
     "data": {
      "text/plain": [
       "'1.  The left ventricular cavity size and wall thickness appear normal.  The wall motion and left ventricular systolic function appears hyperdynamic with estimated ejection fraction of 70% to 75%.  There is near-cavity obliteration seen.  There also appears to be increased left ventricular outflow tract gradient at the mid cavity level consistent with hyperdynamic left ventricular systolic function.  There is abnormal left ventricular relaxation pattern seen as well as elevated left atrial pressures seen by Doppler examination.,2.  The left atrium appears mildly dilated.,3.  The right atrium and right ventricle appear normal.,4.  The aortic root appears normal.,5.  The aortic valve appears calcified with mild aortic valve stenosis, calculated aortic valve area is 1.3 cm square with a maximum instantaneous gradient of 34 and a mean gradient of 19 mm.,6.  There is mitral annular calcification extending to leaflets and supportive structures with thickening of mitral valve leaflets with mild mitral regurgitation.,7.  The tricuspid valve appears normal with trace tricuspid regurgitation with moderate pulmonary artery hypertension.  Estimated pulmonary artery systolic pressure is 49 mmHg.  Estimated right atrial pressure of 10 mmHg.,8.  The pulmonary valve appears normal with trace pulmonary insufficiency.,9.  There is no pericardial effusion or intracardiac mass seen.,10.  There is a color Doppler suggestive of a patent foramen ovale with lipomatous hypertrophy of the interatrial septum.,11.  The study was somewhat technically limited and hence subtle abnormalities could be missed from the study.,'"
      ]
     },
     "execution_count": 20,
     "metadata": {},
     "output_type": "execute_result"
    }
   ],
   "source": [
    "clinicaldf['transcription'].iloc[1]"
   ]
  },
  {
   "cell_type": "code",
   "execution_count": 21,
   "metadata": {},
   "outputs": [],
   "source": [
    "#cleaning the textual data of transcription column\n",
    "clinicaldf['transcription']= clinicaldf['transcription'].apply(clean_text)\n",
    "clinicaldf['transcription']= clinicaldf['transcription'].apply(lemmatize_text)\n"
   ]
  },
  {
   "cell_type": "code",
   "execution_count": 22,
   "metadata": {},
   "outputs": [],
   "source": [
    "clinicaldf['transcription']= clinicaldf['transcription'].apply(process_Text)"
   ]
  },
  {
   "cell_type": "code",
   "execution_count": 23,
   "metadata": {},
   "outputs": [
    {
     "data": {
      "text/plain": [
       "'1 left ventricular cavity wall wall left ventricular left ventricular left ventricular left atrium atrium ventricle aortic valve aortic valve aortic valve area leaflet mitral valve mitral regurgitation tricuspid valve tricuspid pulmonary artery pulmonary artery pulmonary valve pulmonary insufficiency 9 pericardial lipomatous'"
      ]
     },
     "execution_count": 23,
     "metadata": {},
     "output_type": "execute_result"
    }
   ],
   "source": [
    "clinicaldf['transcription'].iloc[1]"
   ]
  },
  {
   "cell_type": "code",
   "execution_count": 24,
   "metadata": {},
   "outputs": [],
   "source": [
    "#these medical specialty includes smaller specialties so to avoid duplication, for e.g. surgery may include --> cases of gyanecology\n",
    "clinicaldf = clinicaldf[clinicaldf['medical_specialty'] != ' Surgery']\n",
    "clinicaldf = clinicaldf[clinicaldf['medical_specialty'] != ' SOAP / Chart / Progress Notes']\n",
    "clinicaldf = clinicaldf[clinicaldf['medical_specialty'] != ' Emergency Room Reports']\n",
    "clinicaldf = clinicaldf[clinicaldf['medical_specialty'] != ' Discharge Summary']\n",
    "clinicaldf = clinicaldf[clinicaldf['medical_specialty'] != ' Office Notes']\n",
    "clinicaldf = clinicaldf[clinicaldf['medical_specialty'] != ' General Medicine']\n",
    "clinicaldf = clinicaldf[clinicaldf['medical_specialty'] != ' Pain Management']\n"
   ]
  },
  {
   "cell_type": "code",
   "execution_count": 25,
   "metadata": {},
   "outputs": [],
   "source": [
    "clinicaldf.loc[clinicaldf.medical_specialty == ' Neurosurgery', \"medical_specialty\"] = ' Neurology'\n",
    "clinicaldf.loc[clinicaldf.medical_specialty == ' Nephrology', \"medical_specialty\"] = \" Urology\""
   ]
  },
  {
   "cell_type": "code",
   "execution_count": 26,
   "metadata": {},
   "outputs": [
    {
     "data": {
      "text/plain": [
       " Orthopedic                    303\n",
       " Cardiovascular / Pulmonary    280\n",
       " Radiology                     251\n",
       " Neurology                     249\n",
       " Consult - History and Phy.    234\n",
       " Gastroenterology              195\n",
       " Urology                       140\n",
       " Obstetrics / Gynecology       130\n",
       " ENT - Otolaryngology           84\n",
       "Name: medical_specialty, dtype: int64"
      ]
     },
     "execution_count": 26,
     "metadata": {},
     "output_type": "execute_result"
    }
   ],
   "source": [
    "clinicaldf.medical_specialty.value_counts()"
   ]
  },
  {
   "cell_type": "code",
   "execution_count": 27,
   "metadata": {},
   "outputs": [
    {
     "data": {
      "text/plain": [
       "(1866, 2)"
      ]
     },
     "execution_count": 27,
     "metadata": {},
     "output_type": "execute_result"
    }
   ],
   "source": [
    "\n",
    "clinicaldf.shape"
   ]
  },
  {
   "cell_type": "code",
   "execution_count": 28,
   "metadata": {},
   "outputs": [
    {
     "data": {
      "text/plain": [
       "str"
      ]
     },
     "execution_count": 28,
     "metadata": {},
     "output_type": "execute_result"
    }
   ],
   "source": [
    "type(clinicaldf['medical_specialty'].iloc[0])"
   ]
  },
  {
   "cell_type": "code",
   "execution_count": 29,
   "metadata": {},
   "outputs": [
    {
     "name": "stdout",
     "output_type": "stream",
     "text": [
      "['alcohol', 'alcohol patient', 'allograft', 'amniotic', 'amniotic fluid', 'ampulla', 'anesthesia', 'anesthesia patient', 'aneurysm', 'annular', 'antebrachial', 'anterior', 'anterior abdominal', 'anterior abdominal wall', 'anterior cervical', 'anterior cruciate', 'anterior descending', 'anterior descending artery', 'anterior posterior', 'anteriorly', 'anterolateral', 'antrum', 'aorta', 'aortic', 'aortic arch', 'aortic valve', 'apex', 'apical', 'appendix', 'arch', 'area', 'arm', 'arterial', 'arteriosus', 'artery', 'artery anterior', 'artery anterior descending', 'artery artery', 'artery carotid', 'artery carotid artery', 'artery circumflex', 'artery coronary', 'artery coronary artery', 'artery femoral', 'artery left', 'artery patient', 'artery posterior', 'artery pulmonary', 'artery renal', 'artery vessel', 'articular', 'articular surface', 'aspirin', 'atrial', 'atrium', 'axillary', 'b12', 'bacitracin', 'barium', 'barium patient', 'base', 'bed', 'benign', 'betadine', 'biceps', 'biceps tendon', 'bid', 'bilateral', 'bile', 'bile duct', 'biliary', 'bilirubin', 'biopsy', 'biopsy patient', 'bladder', 'bladder bladder', 'bladder blade', 'bladder flap', 'bladder neck', 'bladder patient', 'bladder tumor', 'blade', 'blood', 'blood blood', 'blood cell', 'blood heart', 'blood patient', 'blood patient patient', 'blood pressure', 'blood sugar', 'blood vessel', 'bluntly', 'body', 'bone', 'bone bone', 'bone flap', 'bone graft', 'bone wound', 'bony', 'border', 'bowel', 'bowel bladder', 'bowel bowel', 'bowel patient', 'brachial', 'brain', 'brain brain', 'brain patient', 'brain tumor', 'brainstem', 'branch', 'breast', 'breast cancer', 'breast patient', 'bronchoscope', 'bronchus', 'bruits', 'bulb', 'bursa', 'buttock', 'bypass', 'c6', 'c6c7', 'c7', 'calcium', 'caliber', 'canal', 'cancellous', 'cancer', 'cancer patient', 'cannula', 'capillary', 'capsular', 'capsule', 'carcinoma', 'cardiac', 'cardiac abdomen', 'cardiac patient', 'cardioplegia', 'cardiopulmonary', 'cardiopulmonary bypass', 'cardiovascular', 'carina', 'carotid', 'carotid artery', 'carotid artery carotid', 'carpal', 'carpal ligament', 'cartilage', 'catheter', 'caudal', 'cava', 'cavity', 'cbc', 'cecum', 'cell', 'cell carcinoma', 'central', 'cerebellum', 'cerebral', 'cervical', 'cervical cervical', 'cervical patient', 'cervical spine', 'cervical spine cervical', 'cervical spondylosis', 'cervix', 'chest', 'cholesterol', 'circumference', 'circumferential', 'circumflex', 'clot', 'codeine', 'collateral', 'collateral ligament', 'colli', 'colli muscle', 'colon', 'colon cancer', 'colon polyp', 'compartment', 'complex', 'condyle', 'conjunctiva', 'cord', 'cord cord', 'coronary', 'coronary artery', 'coronary artery anterior', 'coronary artery coronary', 'coronary artery patient', 'coronary artery vessel', 'coronary coronary', 'coronary left', 'coronary patient', 'cortex', 'cortical', 'coumadin', 'cranial', 'cranial nerve', 'crease', 'creatinine', 'cricoid', 'crp', 'cruciate', 'cuff', 'cuff tear', 'cut', 'cyst', 'cystic', 'cystic duct', 'cystic duct cystic', 'decadron', 'deltoid', 'demerol', 'descending', 'descending artery', 'dilantin', 'disc', 'disease', 'dissected', 'dissection', 'distal', 'dorsal', 'dorsal lithotomy', 'dorsal lithotomy patient', 'duct', 'duct cystic', 'duodenum', 'dura', 'ear', 'ear canal', 'ear ear', 'ear nose', 'ear patient', 'edema', 'edema patient', 'edge', 'element', 'emg', 'enddiastolic', 'endometrial', 'endotracheal', 'endotracheal anesthesia', 'endotracheal anesthesia patient', 'endotracheal blood', 'endotracheal patient', 'endotracheal tube', 'endotracheal tube patient', 'endplate', 'eom', 'epicondyle', 'epididymis', 'epidural', 'epigastric', 'epinephrine', 'epinephrine patient', 'erythema', 'esophageal', 'esophagus', 'esophagus esophagus', 'esophagus stomach', 'ethmoid', 'eustachian', 'eustachian tube', 'extensor', 'extensor hallucis', 'extensor tendon', 'extraocular', 'extraocular muscle', 'exudate', 'eye', 'eye eye', 'eye patient', 'facial', 'facial bone', 'fallopian', 'fallopian tube', 'fascia', 'fascia fascia', 'fascia skin', 'fascia subcutaneous', 'fascial', 'fat', 'femoral', 'femoral artery', 'femoral femoral', 'femoral head', 'femoral vein', 'femur', 'fentanyl', 'fetal', 'fetal heart', 'fhx', 'fhx tobacco', 'fiber', 'fibroid', 'fibular', 'fingerbreadth', 'flank', 'flap', 'flavum', 'flexor', 'flexure', 'fluid', 'flushed', 'focal', 'foot', 'foot foot', 'foot patient', 'foramen', 'foraminal', 'forceps', 'forearm', 'foreskin', 'fossa', 'fracture', 'frontal', 'ft4', 'fundus', 'gag', 'gallbladder', 'gallbladder cystic', 'gallbladder cystic duct', 'gallbladder gallbladder', 'gallbladder liver', 'ganglion', 'gastric', 'gastric bypass', 'gastroesophageal', 'gastroesophageal reflux', 'gastrointestinal', 'gland', 'glans', 'glenoid', 'glottic', 'glucose', 'graft', 'graft graft', 'granulation', 'groin', 'gut', 'hair', 'hallucis', 'hct', 'head', 'head neck', 'heart', 'heart abdomen', 'heart abdomen soft', 'heart blood', 'heart blood pressure', 'heart coronary', 'heart heart', 'heart heart blood', 'heart lung', 'heart lung abdomen', 'heart patient', 'heart pulmonary', 'hematoma', 'hemiscrotum', 'hemoglobin', 'hemorrhage', 'hemostatic', 'heparin', 'hepatic', 'hernia', 'hiatal', 'hiatal hernia', 'highgrade', 'humerus', 'hypopharynx', 'ica', 'identified', 'ileocecal', 'ileocecal valve', 'ileum', 'iliac', 'iliac artery', 'incised', 'incision', 'inferior', 'inguinal', 'inner', 'inr', 'insufficiency', 'insulin', 'intercostal', 'interspace', 'intimal', 'intraabdominal', 'intracardiac', 'intracranial', 'intramedullary', 'intravenous', 'iron', 'joint', 'joint joint', 'joint patient', 'joint posterior', 'jugular', 'junction', 'kerrison', 'kidney', 'knee', 'l1', 'l45', 'l5s1', 'labrum', 'laceration', 'lamina', 'large', 'laryngeal', 'lasix', 'lateral', 'lateral joint', 'lateral meniscus', 'lateral patient', 'laterally', 'layer', 'layer patient', 'layer skin', 'leaflet', 'left', 'left anterior', 'left arm', 'left atrium', 'left blood', 'left breast', 'left carotid', 'left carotid artery', 'left circumflex', 'left coronary', 'left distal', 'left foot', 'left inguinal', 'left knee', 'left lateral', 'left left', 'left leg', 'left lobe', 'left patient', 'left patient patient', 'left right', 'left ventricular', 'leg', 'leg patient', 'lesion', 'lidocaine', 'lidocaine epinephrine', 'ligament', 'ligamentum', 'ligamentum flavum', 'limb', 'line', 'lip', 'lisinopril', 'lithotomy', 'lithotomy patient', 'liver', 'liver gallbladder', 'liver patient', 'lma', 'lobe', 'longus', 'longus colli', 'longus colli muscle', 'longus tendon', 'lumbar', 'lumbar spine', 'lumbosacral', 'lumen', 'lung', 'lung abdomen', 'lung abdomen soft', 'lung cardiac', 'lung heart', 'lung heart abdomen', 'lung lung', 'lung patient', 'lymph', 'lymph node', 'lymphadenopathy', 'lymphatic', 'malignant', 'malleolus', 'mammary', 'mammary artery', 'marcaine', 'marcaine epinephrine', 'marcaine patient', 'margin', 'marginal', 'marrow', 'mass', 'mastoid', 'material', 'maxillary', 'maxillary sinus', 'meatus', 'medial', 'medial femoral', 'medial lateral', 'medial malleolus', 'mediastinum', 'membrane', 'meningioma', 'meniscus', 'mesenteric', 'mesentery', 'mesoappendix', 'mesothelioma', 'metastatic', 'metatarsal', 'metatarsal head', 'methotrexate', 'metoprolol', 'midline', 'mitral', 'mitral valve', 'morphine', 'mouth', 'mucosa', 'mucosal', 'mucous', 'multivitamin', 'muscle', 'muscle fascia', 'muscle left', 'muscle midline', 'muscle muscle', 'muscle patient', 'muscle skin', 'muscular', 'musculature', 'myocardial', 'myocardial myocardial', 'myocardial patient', 'nasal', 'nasal mucosa', 'nasal septum', 'nasopharynx', 'neck', 'needle', 'neoplasm', 'nerve', 'nerve patient', 'nerve root', 'neural', 'neural foramen', 'neurovascular', 'node', 'nodule', 'normal', 'nose', 'nuclear', 'oblique', 'oblique fascia', 'obturator', 'obtuse', 'obtuse marginal', 'omentum', 'optic', 'oral', 'oral patient', 'organ', 'orifice', 'oropharynx', 'osseous', 'osteophyte', 'ovarian', 'ovarian cyst', 'ovary', 'oxygen', 'pad', 'pain', 'palate', 'pancreas', 'pancreatic', 'paranasal', 'paranasal sinus', 'paraspinal', 'parenchyma', 'parietal', 'patella', 'patellar', 'patient', 'patient abdomen', 'patient abdominal', 'patient airway', 'patient alcohol', 'patient anterior', 'patient barium', 'patient bladder', 'patient blood', 'patient blood patient', 'patient blood pressure', 'patient bone', 'patient bowel', 'patient brain', 'patient breast', 'patient cardiac', 'patient cervical', 'patient cervix', 'patient colon', 'patient coronary', 'patient coronary artery', 'patient dorsal', 'patient dorsal lithotomy', 'patient ear', 'patient endotracheal', 'patient endotracheal anesthesia', 'patient endotracheal patient', 'patient endotracheal tube', 'patient epidural', 'patient esophageal', 'patient eye', 'patient foot', 'patient foot patient', 'patient head', 'patient heart', 'patient intravenous', 'patient joint', 'patient lateral', 'patient left', 'patient left patient', 'patient lidocaine', 'patient liver', 'patient lung', 'patient marcaine', 'patient midline', 'patient muscle', 'patient nasal', 'patient needle', 'patient oral', 'patient oxygen', 'patient patient', 'patient patient blood', 'patient patient dorsal', 'patient patient endotracheal', 'patient patient foot', 'patient patient heart', 'patient patient left', 'patient patient lidocaine', 'patient patient patient', 'patient patient skin', 'patient posterior', 'patient pulmonary', 'patient renal', 'patient skin', 'patient skin patient', 'patient spinal', 'patient tube', 'patient tumor', 'patient urine', 'patient vaginal', 'patient vascular', 'patient ventricular', 'patient wound', 'pda', 'pectoralis', 'pedicle', 'pelvic', 'pelvis', 'pelvis abdominal', 'penicillin', 'penile', 'penis', 'pericardial', 'pericardium', 'perineum', 'periosteal', 'periosteum', 'peripheral', 'peripheral vascular', 'peritoneal', 'peritoneum', 'periventricular', 'phalanx', 'pharynx', 'phenol', 'pin', 'pitocin', 'pituitary', 'pituitary adenoma', 'placed', 'placenta', 'plantar', 'platelet', 'platysma', 'plavix', 'pleura', 'pleural', 'po', 'polyp', 'polypoid', 'popliteal', 'port', 'portal', 'posterior', 'posterior annular', 'posterior patient', 'posteriorly', 'posterolateral', 'potassium', 'pouch', 'prednisone', 'premarin', 'prepped', 'pressure', 'prevertebral', 'prn', 'pronator', 'prostate', 'prostate cancer', 'prostatic', 'protamine', 'proximal', 'pubic', 'pulmonary', 'pulmonary artery', 'pulmonary artery pulmonary', 'pulmonary pulmonary', 'pulmonary vein', 'punch', 'pylorus', 'quadriceps', 'rbc', 'rectal', 'rectum', 'rectus', 'reflux', 'region', 'renal', 'renal artery', 'renal pelvis', 'resected', 'retracted', 'retractor', 'retroperitoneal', 'right', 'right left', 'right patient', 'root', 'sac', 'sagittal', 'saline', 'saphenous', 'saphenous vein', 'scalp', 'scar', 'scar tissue', 'screw', 'scrotal', 'scrotum', 'second', 'seed', 'segment', 'sellar', 'seminal', 'seminal vesicle', 'septal', 'septum', 'serum', 'shaft', 'sheath', 'shoulder', 'sigmoid', 'sigmoid colon', 'signal', 'silk', 'sinus', 'skin', 'skin blood', 'skin edge', 'skin marcaine', 'skin patient', 'skin patient patient', 'skin skin', 'skin skin patient', 'skin subcutaneous', 'skin subcutaneous tissue', 'skin wound', 'skull', 'small', 'smooth', 'sodium', 'soft', 'soft bowel', 'soft tissue', 'solid', 'space', 'specimen', 'spermatic', 'spermatic cord', 'sphenoid', 'spinal', 'spinal cord', 'spine', 'spine cervical', 'spinous', 'spleen', 'spondylosis', 'sponge', 'squamous', 'squamous cell', 'squamous cell carcinoma', 'stem', 'stenosis', 'stent', 'sternocleidomastoid', 'sternum', 'stitch', 'stomach', 'stone', 'stone patient', 'stool', 'stricture', 'subarachnoid', 'subclavian', 'subcutaneous', 'subcutaneous fat', 'subcutaneous layer', 'subcutaneous tissue', 'subcutaneous tissue skin', 'subcuticular', 'subglottic', 'subscapularis', 'subscapularis tendon', 'sugar', 'superficial', 'suprapubic', 'supraspinatus', 'surface', 'suture', 'systolic', 't11', 'tablet', 'taken', 'tear', 'teeth', 'temporalis', 'tenderness', 'tendon', 'tendon tear', 'tendon tendon', 'testicle', 'testicular', 'testis', 'thecal', 'thecal sac', 'thigh', 'thoracic', 'thoracic spine', 'threevessel', 'thrombus', 'thyroid', 'tibia', 'tibial', 'tibialis', 'tid', 'tip', 'tissue', 'tissue anterior', 'tissue left', 'tissue patient', 'tissue skin', 'tissue skin patient', 'tissue wound', 'tobacco', 'tongue', 'tonsil', 'tonsillar', 'tourniquet', 'trachea', 'tracheal', 'transverse', 'transverse colon', 'tremor', 'tricuspid', 'tricuspid valve', 'trocar', 'tsh', 'tubal', 'tube', 'tube ovary', 'tube patient', 'tube patient patient', 'tube tube', 'tumor', 'tumor bladder', 'tumor patient', 'tumor tumor', 'tumor tumor tumor', 'turbinate', 'tylenol', 'tympanic', 'tympanic membrane', 'ulcer', 'ulnar', 'ulnar nerve', 'umbilical', 'umbilicus', 'upper', 'ureter', 'ureteral', 'ureteral orifice', 'urethra', 'urethral', 'urinary', 'urine', 'urine patient', 'uterine', 'uterus', 'uterus patient', 'vagina', 'vaginal', 'vaginal patient', 'valve', 'valve aortic', 'valve area', 'valve mitral', 'valvular', 'vascular', 'vascular patient', 'vein', 'vein graft', 'vena', 'vena cava', 'venous', 'ventral', 'ventricle', 'ventricle left', 'ventricular', 'ventricular aortic', 'ventricular catheter', 'ventricular patient', 'ventricular ventricular', 'vertebral', 'vertebral body', 'vesicle', 'vessel', 'vessel coronary', 'vessel vessel', 'vestibular', 'vicryl', 'vicryl suture', 'vitamin', 'volar', 'vulsellum', 'wall', 'wall left', 'wall wall', 'water', 'wire', 'wound', 'wound layer', 'wound marcaine', 'wound patient', 'wound saline', 'wound skin', 'wound wound', 'xylocaine', 'xylocaine epinephrine']\n"
     ]
    }
   ],
   "source": [
    "#appling tfidf in 'Transcription' column \n",
    "tfv = TfidfVectorizer(min_df=5, max_features=1000, use_idf=True,\n",
    "                      strip_accents='unicode',analyzer='word',smooth_idf=True,\n",
    "                      ngram_range=(1,3), sublinear_tf=True,\n",
    "                      stop_words='english' )\n",
    "tfidf_mat= tfv.fit_transform(clinicaldf['transcription'])\n",
    "feature_names= sorted(tfv.get_feature_names_out())\n",
    "del feature_names[0:35]\n",
    "print(feature_names)"
   ]
  },
  {
   "cell_type": "code",
   "execution_count": 30,
   "metadata": {},
   "outputs": [
    {
     "data": {
      "text/plain": [
       "(1866, 1000)"
      ]
     },
     "execution_count": 30,
     "metadata": {},
     "output_type": "execute_result"
    }
   ],
   "source": [
    "tfidf_mat.shape"
   ]
  },
  {
   "cell_type": "code",
   "execution_count": 31,
   "metadata": {},
   "outputs": [],
   "source": [
    "from sklearn.model_selection import train_test_split\n",
    "#splitting data to train and test the model, here data of transcription predicts medical specialty\n",
    "X_train, X_test, y_train, y_test = train_test_split(tfidf_mat, clinicaldf.medical_specialty, random_state=1, stratify= clinicaldf.medical_specialty )"
   ]
  },
  {
   "cell_type": "code",
   "execution_count": 32,
   "metadata": {},
   "outputs": [
    {
     "name": "stdout",
     "output_type": "stream",
     "text": [
      "Train_Set_Size:(1399, 1000)\n",
      "Test_Set_Size:(467, 1000)\n"
     ]
    }
   ],
   "source": [
    "print('Train_Set_Size:'+str(X_train.shape))\n",
    "print('Test_Set_Size:'+str(X_test.shape))"
   ]
  },
  {
   "cell_type": "code",
   "execution_count": 33,
   "metadata": {},
   "outputs": [],
   "source": [
    "#from sklearn.model_selection import train_test_split\n",
    "#from sklearn.decomposition import PCA\n",
    "#pca= PCA(n_components=0.95)\n",
    "#tfidfmat_reduced = pca.fit_transform(tfidf_mat.toarray())\n",
    "#labels= clinicaldf['medical_specialty'].tolist()\n",
    "#category_list = clinicaldf.medical_specialty.unique()\n",
    "#X_train, X_test, y_train, y_test = train_test_split(tfidfmat_reduced, labels, random_state=1, stratify= labels)"
   ]
  },
  {
   "cell_type": "code",
   "execution_count": 34,
   "metadata": {},
   "outputs": [],
   "source": [
    "#Import Random Forest Model\n",
    "from sklearn.ensemble import RandomForestClassifier\n",
    "\n",
    "#Create a Gaussian Classifier\n",
    "clf=RandomForestClassifier(n_estimators=100)\n",
    "\n",
    "#Train the model using the training \n",
    "clf.fit(X_train,y_train)\n",
    "\n",
    "y_pred=clf.predict(X_test)\n"
   ]
  },
  {
   "cell_type": "code",
   "execution_count": 35,
   "metadata": {},
   "outputs": [],
   "source": [
    "#clf = LogisticRegression(penalty= 'elasticnet', solver= 'saga', l1_ratio=0.5, random_state=1)\n",
    "#clf.fit(X_train, y_train)\n",
    "#y_pred= clf.predict(X_test)"
   ]
  },
  {
   "cell_type": "code",
   "execution_count": 36,
   "metadata": {},
   "outputs": [
    {
     "name": "stdout",
     "output_type": "stream",
     "text": [
      "Accuracy: 0.5438972162740899\n"
     ]
    }
   ],
   "source": [
    "from sklearn import metrics\n",
    "# Model Accuracy\n",
    "print(\"Accuracy:\",metrics.accuracy_score(y_test, y_pred))"
   ]
  },
  {
   "cell_type": "code",
   "execution_count": 37,
   "metadata": {},
   "outputs": [
    {
     "name": "stdout",
     "output_type": "stream",
     "text": [
      "Train_Set_Size:(1563, 1000)\n",
      "Test_Set_Size:(522, 1000)\n"
     ]
    }
   ],
   "source": [
    "#creating more samples who have less no. of values to balance the dataset\n",
    "smote_over_sample = SMOTE(sampling_strategy='minority')\n",
    "labels = clinicaldf['medical_specialty'].tolist()\n",
    "X, y = smote_over_sample.fit_resample(tfidf_mat, labels)\n",
    "X_train1, X_test1, y_train1, y_test1 = train_test_split(X, y, stratify=y,random_state=1)   \n",
    "print('Train_Set_Size:'+str(X_train1.shape))\n",
    "print('Test_Set_Size:'+str(X_test1.shape))"
   ]
  },
  {
   "cell_type": "code",
   "execution_count": 38,
   "metadata": {},
   "outputs": [],
   "source": [
    "#Create a Gaussian Classifier\n",
    "clf1=RandomForestClassifier(n_estimators=100)\n",
    "\n",
    "#Train the model using the training sets\n",
    "clf1.fit(X_train1,y_train1)\n",
    "\n",
    "y_pred1=clf1.predict(X_test1)\n"
   ]
  },
  {
   "cell_type": "code",
   "execution_count": 39,
   "metadata": {},
   "outputs": [
    {
     "name": "stdout",
     "output_type": "stream",
     "text": [
      "Accuracy of model: 0.5498084291187739\n"
     ]
    }
   ],
   "source": [
    "from sklearn import metrics\n",
    "# Model Accuracy, how often is the classifier correct?\n",
    "print(\"Accuracy of model:\",metrics.accuracy_score(y_test1, y_pred1))"
   ]
  },
  {
   "cell_type": "code",
   "execution_count": 40,
   "metadata": {},
   "outputs": [],
   "source": [
    "X_tests_input= \"\"\"Angelina is 19 years old girl \n",
    "from the past 7 days she is suffering from abdominal pain cramps,\n",
    "have mood swings, lack of appetite and has frequent burps. \n",
    "her vitals are 92bpm with a temperature of 98.6 F\"\"\"\n",
    "X_test_tf =  tfv.transform([X_tests_input])\n",
    "y_output= clf1.predict(X_test_tf)\n"
   ]
  },
  {
   "cell_type": "code",
   "execution_count": 41,
   "metadata": {},
   "outputs": [
    {
     "name": "stdout",
     "output_type": "stream",
     "text": [
      "[' Gastroenterology']\n"
     ]
    }
   ],
   "source": [
    "print(y_output)"
   ]
  },
  {
   "cell_type": "code",
   "execution_count": 42,
   "metadata": {},
   "outputs": [],
   "source": [
    "X_tests_input= \"\"\"Hari - 49 yearls old male. \n",
    "Vitals : 110 bpm, Temp : 97F, Weight : 86 kg. \n",
    "Symptoms: Suffering from chest pain, heart musce ache near \n",
    "central artery region. Since past 3 days.\n",
    " Prior Diognosis: Probable heart disease. \n",
    "Previous Medicines: Angiotensin-converting enzyme \n",
    "(ACE) inhibitors.\"\"\"\n",
    "X_test_tf =  tfv.transform([X_tests_input])\n",
    "y_output= clf.predict(X_test_tf)"
   ]
  },
  {
   "cell_type": "code",
   "execution_count": 43,
   "metadata": {},
   "outputs": [
    {
     "name": "stdout",
     "output_type": "stream",
     "text": [
      "[' Cardiovascular / Pulmonary']\n"
     ]
    }
   ],
   "source": [
    "print(y_output)"
   ]
  },
  {
   "cell_type": "code",
   "execution_count": 44,
   "metadata": {},
   "outputs": [],
   "source": [
    "X_tests_input= \"\"\"he is 78 years old with high blood pressure, \n",
    "difficulty in breathing, frequent chest pain. \n",
    "Past he experienced mild heart attack.\"\"\"\n",
    "X_test_tf =  tfv.transform([X_tests_input])\n",
    "y_output1= clf1.predict(X_test_tf)"
   ]
  },
  {
   "cell_type": "code",
   "execution_count": 45,
   "metadata": {},
   "outputs": [
    {
     "name": "stdout",
     "output_type": "stream",
     "text": [
      "[' Cardiovascular / Pulmonary']\n"
     ]
    }
   ],
   "source": [
    "print(y_output1)"
   ]
  },
  {
   "cell_type": "code",
   "execution_count": 46,
   "metadata": {},
   "outputs": [],
   "source": [
    "X_tests_input= \"joint pain, cant climb stairs well, short of breath\"\n",
    "X_test_tf =  tfv.transform([X_tests_input])\n",
    "y_output1= clf1.predict(X_test_tf)"
   ]
  },
  {
   "cell_type": "code",
   "execution_count": 47,
   "metadata": {},
   "outputs": [
    {
     "name": "stdout",
     "output_type": "stream",
     "text": [
      "[' Orthopedic']\n"
     ]
    }
   ],
   "source": [
    "print(y_output1)"
   ]
  }
 ],
 "metadata": {
  "kernelspec": {
   "display_name": "Python 3.7.4 64-bit",
   "language": "python",
   "name": "python3"
  },
  "language_info": {
   "codemirror_mode": {
    "name": "ipython",
    "version": 3
   },
   "file_extension": ".py",
   "mimetype": "text/x-python",
   "name": "python",
   "nbconvert_exporter": "python",
   "pygments_lexer": "ipython3",
   "version": "3.7.4"
  },
  "orig_nbformat": 4,
  "vscode": {
   "interpreter": {
    "hash": "b8a4c2eee1884417a2374275d3e069a47f6490569055df85dccf5eeeb4e5a6a3"
   }
  }
 },
 "nbformat": 4,
 "nbformat_minor": 2
}
